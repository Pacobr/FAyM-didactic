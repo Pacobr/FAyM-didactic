{
  "cells": [
    {
      "cell_type": "markdown",
      "metadata": {
        "id": "-szsuPknqU3H"
      },
      "source": [
        "# Numerical Calculus practices\n",
        "\n",
        "Atomic and Molecular Physics - 2022/23\n",
        "\n",
        "Departamento de Estructura de la Materia, Física Térmica y Electrónica - UCM\n",
        "\n",
        "Author(s): J. Rosado, F. Blanco\n",
        "\n",
        "Translated by: D. Nieto"
      ]
    },
    {
      "cell_type": "markdown",
      "source": [
        "## License"
      ],
      "metadata": {
        "id": "zepJi8cuija6"
      }
    },
    {
      "cell_type": "markdown",
      "source": [
        "Copyright 2022 The Authors\n",
        "\n",
        "Permission is hereby granted, free of charge, to any person obtaining a copy of this software and associated documentation files (the \"Software\"), to deal in the Software without restriction, including without limitation the rights to use, copy, modify, merge, publish, distribute, sublicense, and/or sell copies of the Software, and to permit persons to whom the Software is furnished to do so, subject to the following conditions:\n",
        "\n",
        "The above copyright notice and this permission notice shall be included in all copies or substantial portions of the Software.\n",
        "\n",
        "THE SOFTWARE IS PROVIDED \"AS IS\", WITHOUT WARRANTY OF ANY KIND, EXPRESS OR IMPLIED, INCLUDING BUT NOT LIMITED TO THE WARRANTIES OF MERCHANTABILITY, FITNESS FOR A PARTICULAR PURPOSE AND NONINFRINGEMENT. IN NO EVENT SHALL THE AUTHORS OR COPYRIGHT HOLDERS BE LIABLE FOR ANY CLAIM, DAMAGES OR OTHER LIABILITY, WHETHER IN AN ACTION OF CONTRACT, TORT OR OTHERWISE, ARISING FROM, OUT OF OR IN CONNECTION WITH THE SOFTWARE OR THE USE OR OTHER DEALINGS IN THE SOFTWARE."
      ],
      "metadata": {
        "id": "UNSWxQ7WivQr"
      }
    },
    {
      "cell_type": "markdown",
      "metadata": {
        "id": "H-8oi9qXqU3L"
      },
      "source": [
        "## Google Colab setup"
      ]
    },
    {
      "cell_type": "markdown",
      "metadata": {
        "id": "V8srfIQhqU3M"
      },
      "source": [
        "1. Mount your **UCM** Google Drive unit. You'll be asked to grant Google Colab permission to access your Drive."
      ]
    },
    {
      "cell_type": "code",
      "execution_count": null,
      "metadata": {
        "id": "IjZt0V9SqU3M"
      },
      "outputs": [],
      "source": [
        "from google.colab import drive\n",
        "drive.mount('/content/drive')"
      ]
    },
    {
      "cell_type": "markdown",
      "metadata": {
        "id": "BcfFvElcqU3O"
      },
      "source": [
        "2. Click on the following link to get access to a shared folder containing all the necessary code:\n",
        "\n",
        "https://drive.google.com/drive/folders/1cSm1S8fYvurHPbSvcQqpm7sluvI1Ez9-?usp=sharing\n",
        "\n",
        "3. Next, add a shortcut to that folder in your Drive unit (main folder). To do so, access your Drive from your browser, go to the \"Shared with me\" section, right-click the shared folder for the practices and select the corresponding option in the drop-down menu."
      ]
    },
    {
      "cell_type": "markdown",
      "metadata": {
        "id": "AxBwSgbZqU3O"
      },
      "source": [
        "4. Add the path to the newly created shortcut to the Python path. Mind that the path name might differ from the following depending on the configuration of your Drive. If so, update accordingly."
      ]
    },
    {
      "cell_type": "code",
      "execution_count": null,
      "metadata": {
        "id": "q5T200mJqU3O"
      },
      "outputs": [],
      "source": [
        "import sys\n",
        "#Mpath = '/content/drive/MyDrive/ProgramasFAyM'\n",
        "Mpath = '/content/drive/My Drive/ProgramasFAyM'\n",
        "#Mpath = '/drive/MyDrive/ProgramasFAyM'\n",
        "#Mpath = '/drive/My Drive/ProgramasFAyM'\n",
        "sys.path.append(Mpath)"
      ]
    },
    {
      "cell_type": "markdown",
      "metadata": {
        "id": "spQnTYiOqU3P"
      },
      "source": [
        "## First practice: calculation of atomic orbitals using parametric self-consistent potentials\n",
        "\n",
        "\n"
      ]
    },
    {
      "cell_type": "markdown",
      "metadata": {
        "id": "do0MaPs4qU3P"
      },
      "source": [
        "1. Import the Python module containing the code. You just need to run this cell once, regardless of the number of orbitals you will be computing. \n",
        "\n",
        "If the module is not found, update the \"MPath\" variable by running the [previous cell](https://colab.research.google.com/drive/1l4cSPGk29GzCA-CWEqp_xtU9JLzCsOju#scrollTo=q5T200mJqU3O&line=4&uniqifier=1), commenting out (removing the \"#\" symbol) alternative paths to your shortcut."
      ]
    },
    {
      "cell_type": "code",
      "execution_count": null,
      "metadata": {
        "id": "Z9s_BpdUqU3Q"
      },
      "outputs": [],
      "source": [
        "import orbitals as ob"
      ]
    },
    {
      "cell_type": "markdown",
      "metadata": {
        "id": "8XYIMhM3qU3R"
      },
      "source": [
        "2. Run the calculation. The settings panel that will show up after running for the first time allows you to select the potential and all the parameters necessary to solve the Schrödinger equation using Neronov's method. Some parameters come with fixed values depending on the chosen potentiala. You can also input custom values. After modifying any parameter **one must press ENTER to trigger the a new calculation.** Also, the chart itself has controls to move the axes, zoom, etc.\n",
        "\n",
        "3. Once a solution has been found that satisfies the boundary conditions and the number of nodes of the searched orbital, put a filename and click `Save` to save it. The file will be saved in the cloud. To access it and download it to your computer, click on the folder-shaped icon on the left of the execution window and use the download option from the drop-down menu next to the file.\n",
        "\n",
        "Note: it is not necessary to save all the calculated orbitals in files. It is enough to write down the energy and the maximum calculation radius of each orbital."
      ]
    },
    {
      "cell_type": "code",
      "execution_count": null,
      "metadata": {
        "id": "94FEIRI_qU3R"
      },
      "outputs": [],
      "source": [
        "ob.calculate()"
      ]
    },
    {
      "cell_type": "markdown",
      "source": [
        "## Second practice: computation of atomic orbitals starting from the Thomas-Fermi model"
      ],
      "metadata": {
        "id": "2hFCLOKBjg0w"
      }
    },
    {
      "cell_type": "markdown",
      "source": [
        "1. Import the Python module containing the code. You just need to run this cell once, regardless of the number of orbitals you will be computing."
      ],
      "metadata": {
        "id": "aUklVKhhj7QZ"
      }
    },
    {
      "cell_type": "code",
      "source": [
        "import ThomasFermi as tm\n",
        "import orbitals as ob"
      ],
      "metadata": {
        "id": "2koB2Ej_kcAO"
      },
      "execution_count": null,
      "outputs": []
    },
    {
      "cell_type": "markdown",
      "source": [
        "2. Run the calculation. The settings panel that will show up after running for the first time allows you to tweak the input parameters necessary to solve the Fermi equation. Some parameters come with fixed values depending on the chosen potentiala. You can also input custom values. After modifying any parameter **one must press ENTER to trigger the a new calculation.** Also, the chart itself has controls to move the axes, zoom, etc.\n",
        "\n",
        "3. Once a solution has been found that satisfies the boundary conditions for your particular atom, click `Accept` to accept the solution. Once accepted, plots corresponding to the charge dirstribution and the potential will show up.\n",
        "\n",
        "4. Next, give a filename to save the results to and click `Save`. Remember that you have to download the file to your computer before ending the Colab session, otherwise the file will be lost."
      ],
      "metadata": {
        "id": "7NfL4iZekIGk"
      }
    },
    {
      "cell_type": "code",
      "source": [
        "tm.calculate()"
      ],
      "metadata": {
        "id": "kavQTJNNkhMx"
      },
      "execution_count": null,
      "outputs": []
    },
    {
      "cell_type": "markdown",
      "source": [
        "Follow the instructions in the script to find the `H` and `D` parameters of the Green-Sellin-Zachor potential that fits the potential obtained with the Thomas-Fermi model. You can use the empty cells for code below to write your own calculations with Python."
      ],
      "metadata": {
        "id": "4_R7JlYrke7V"
      }
    },
    {
      "cell_type": "code",
      "source": [],
      "metadata": {
        "id": "Y7IlS8j2kwdt"
      },
      "execution_count": null,
      "outputs": []
    },
    {
      "cell_type": "code",
      "source": [],
      "metadata": {
        "id": "Cm-kyN9dkwoo"
      },
      "execution_count": null,
      "outputs": []
    },
    {
      "cell_type": "code",
      "source": [],
      "metadata": {
        "id": "S6tWCzrjkwyR"
      },
      "execution_count": null,
      "outputs": []
    },
    {
      "cell_type": "markdown",
      "source": [
        "To check that the fit is correct, run the following cell. You have to enter the name of the file where the solution of the Fermi equation has been saved and then the parameters H and D found before."
      ],
      "metadata": {
        "id": "re6sjYvSkxSy"
      }
    },
    {
      "cell_type": "code",
      "source": [
        "tm.check_fit()"
      ],
      "metadata": {
        "id": "o2VBN0Zok0wI"
      },
      "execution_count": null,
      "outputs": []
    },
    {
      "cell_type": "markdown",
      "source": [
        "Run the program for calculating orbitals, which is the same one used in the first practice. Enter the parameters H and D for the Green-Sellin-Zachor potential.\n",
        "\n",
        "Remember that once a solution has been found, you can save it in a file that you must then download to your computer, although it is enough to write down the energy and maximum calculation radius of each orbital."
      ],
      "metadata": {
        "id": "7V9ETUXDk1g6"
      }
    },
    {
      "cell_type": "code",
      "source": [
        "ob.calculate()"
      ],
      "metadata": {
        "id": "PkBqyEsrk5WA"
      },
      "execution_count": null,
      "outputs": []
    }
  ],
  "metadata": {
    "colab": {
      "provenance": [],
      "collapsed_sections": []
    },
    "kernelspec": {
      "display_name": "Python 3",
      "language": "python",
      "name": "python3"
    },
    "language_info": {
      "codemirror_mode": {
        "name": "ipython",
        "version": 3
      },
      "file_extension": ".py",
      "mimetype": "text/x-python",
      "name": "python",
      "nbconvert_exporter": "python",
      "pygments_lexer": "ipython3",
      "version": "3.8.5"
    }
  },
  "nbformat": 4,
  "nbformat_minor": 0
}